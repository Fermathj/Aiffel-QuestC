{
 "cells": [
  {
   "cell_type": "markdown",
   "id": "754099fb",
   "metadata": {},
   "source": [
    "# Sequential Model\n"
   ]
  },
  {
   "cell_type": "code",
   "execution_count": 1,
   "id": "9009826a",
   "metadata": {},
   "outputs": [],
   "source": [
    "from tensorflow import keras\n",
    "from tensorflow.keras import layers\n",
    "\n",
    "model = keras.Sequential([\n",
    "    layers.Dense(64, activation = 'relu'), \n",
    "    # 처음 호출될 때 만들어짐 (가중치 만들기 시작! - why? 입력크기에 따라 층의 가중치 크기가 달라지기 때문)\n",
    "    layers.Dense(10, activation = 'softmax')\n",
    "])\n",
    "\n",
    "# add() method를 통해서도 위와 동일한 모델을 만들 수 있다. add()method는 파이썬 리스트의 append() method와 비슷한 역할을 함.\n",
    "# model = keras.Sequential()\n",
    "# model.add(layers.Dense(64, activation = 'relu'))\n",
    "# model.add(layers.Dense(10, activation = 'softmax'))"
   ]
  },
  {
   "cell_type": "markdown",
   "id": "806be4c8",
   "metadata": {},
   "source": [
    "### Sequential model을 만들때 가중치가 바로 생성되지 않음"
   ]
  },
  {
   "cell_type": "code",
   "execution_count": 2,
   "id": "2b48d28e",
   "metadata": {},
   "outputs": [
    {
     "ename": "ValueError",
     "evalue": "Weights for model sequential have not yet been created. Weights are created when the Model is first called on inputs or `build()` is called with an `input_shape`.",
     "output_type": "error",
     "traceback": [
      "\u001b[0;31m---------------------------------------------------------------------------\u001b[0m",
      "\u001b[0;31mValueError\u001b[0m                                Traceback (most recent call last)",
      "\u001b[0;32m/tmp/ipykernel_46/3438359443.py\u001b[0m in \u001b[0;36m<module>\u001b[0;34m\u001b[0m\n\u001b[1;32m      1\u001b[0m \u001b[0;31m# 앞의 Sequential model은 어떠한 가중치도 가지고 있지 않음\u001b[0m\u001b[0;34m\u001b[0m\u001b[0;34m\u001b[0m\u001b[0m\n\u001b[1;32m      2\u001b[0m \u001b[0;31m#따라서 앞의 모델을 호출하지 않은 채로 가중치를 알려고하면 error가 남\u001b[0m\u001b[0;34m\u001b[0m\u001b[0;34m\u001b[0m\u001b[0m\n\u001b[0;32m----> 3\u001b[0;31m \u001b[0mmodel\u001b[0m\u001b[0;34m.\u001b[0m\u001b[0mweights\u001b[0m\u001b[0;34m\u001b[0m\u001b[0;34m\u001b[0m\u001b[0m\n\u001b[0m",
      "\u001b[0;32m/opt/conda/lib/python3.9/site-packages/keras/engine/training.py\u001b[0m in \u001b[0;36mweights\u001b[0;34m(self)\u001b[0m\n\u001b[1;32m   2488\u001b[0m       \u001b[0mA\u001b[0m \u001b[0mlist\u001b[0m \u001b[0mof\u001b[0m \u001b[0mvariables\u001b[0m\u001b[0;34m.\u001b[0m\u001b[0;34m\u001b[0m\u001b[0;34m\u001b[0m\u001b[0m\n\u001b[1;32m   2489\u001b[0m     \"\"\"\n\u001b[0;32m-> 2490\u001b[0;31m     \u001b[0;32mreturn\u001b[0m \u001b[0mself\u001b[0m\u001b[0;34m.\u001b[0m\u001b[0m_dedup_weights\u001b[0m\u001b[0;34m(\u001b[0m\u001b[0mself\u001b[0m\u001b[0;34m.\u001b[0m\u001b[0m_undeduplicated_weights\u001b[0m\u001b[0;34m)\u001b[0m\u001b[0;34m\u001b[0m\u001b[0;34m\u001b[0m\u001b[0m\n\u001b[0m\u001b[1;32m   2491\u001b[0m \u001b[0;34m\u001b[0m\u001b[0m\n\u001b[1;32m   2492\u001b[0m   \u001b[0;34m@\u001b[0m\u001b[0mproperty\u001b[0m\u001b[0;34m\u001b[0m\u001b[0;34m\u001b[0m\u001b[0m\n",
      "\u001b[0;32m/opt/conda/lib/python3.9/site-packages/keras/engine/training.py\u001b[0m in \u001b[0;36m_undeduplicated_weights\u001b[0;34m(self)\u001b[0m\n\u001b[1;32m   2493\u001b[0m   \u001b[0;32mdef\u001b[0m \u001b[0m_undeduplicated_weights\u001b[0m\u001b[0;34m(\u001b[0m\u001b[0mself\u001b[0m\u001b[0;34m)\u001b[0m\u001b[0;34m:\u001b[0m\u001b[0;34m\u001b[0m\u001b[0;34m\u001b[0m\u001b[0m\n\u001b[1;32m   2494\u001b[0m     \u001b[0;34m\"\"\"Returns the undeduplicated list of all layer variables/weights.\"\"\"\u001b[0m\u001b[0;34m\u001b[0m\u001b[0;34m\u001b[0m\u001b[0m\n\u001b[0;32m-> 2495\u001b[0;31m     \u001b[0mself\u001b[0m\u001b[0;34m.\u001b[0m\u001b[0m_assert_weights_created\u001b[0m\u001b[0;34m(\u001b[0m\u001b[0;34m)\u001b[0m\u001b[0;34m\u001b[0m\u001b[0;34m\u001b[0m\u001b[0m\n\u001b[0m\u001b[1;32m   2496\u001b[0m     \u001b[0mweights\u001b[0m \u001b[0;34m=\u001b[0m \u001b[0;34m[\u001b[0m\u001b[0;34m]\u001b[0m\u001b[0;34m\u001b[0m\u001b[0;34m\u001b[0m\u001b[0m\n\u001b[1;32m   2497\u001b[0m     \u001b[0;32mfor\u001b[0m \u001b[0mlayer\u001b[0m \u001b[0;32min\u001b[0m \u001b[0mself\u001b[0m\u001b[0;34m.\u001b[0m\u001b[0m_self_tracked_trackables\u001b[0m\u001b[0;34m:\u001b[0m\u001b[0;34m\u001b[0m\u001b[0;34m\u001b[0m\u001b[0m\n",
      "\u001b[0;32m/opt/conda/lib/python3.9/site-packages/keras/engine/sequential.py\u001b[0m in \u001b[0;36m_assert_weights_created\u001b[0;34m(self)\u001b[0m\n\u001b[1;32m    465\u001b[0m     \u001b[0;31m# When the graph has not been initialized, use the Model's implementation to\u001b[0m\u001b[0;34m\u001b[0m\u001b[0;34m\u001b[0m\u001b[0m\n\u001b[1;32m    466\u001b[0m     \u001b[0;31m# to check if the weights has been created.\u001b[0m\u001b[0;34m\u001b[0m\u001b[0;34m\u001b[0m\u001b[0m\n\u001b[0;32m--> 467\u001b[0;31m     \u001b[0msuper\u001b[0m\u001b[0;34m(\u001b[0m\u001b[0mfunctional\u001b[0m\u001b[0;34m.\u001b[0m\u001b[0mFunctional\u001b[0m\u001b[0;34m,\u001b[0m \u001b[0mself\u001b[0m\u001b[0;34m)\u001b[0m\u001b[0;34m.\u001b[0m\u001b[0m_assert_weights_created\u001b[0m\u001b[0;34m(\u001b[0m\u001b[0;34m)\u001b[0m  \u001b[0;31m# pylint: disable=bad-super-call\u001b[0m\u001b[0;34m\u001b[0m\u001b[0;34m\u001b[0m\u001b[0m\n\u001b[0m\u001b[1;32m    468\u001b[0m \u001b[0;34m\u001b[0m\u001b[0m\n\u001b[1;32m    469\u001b[0m \u001b[0;34m\u001b[0m\u001b[0m\n",
      "\u001b[0;32m/opt/conda/lib/python3.9/site-packages/keras/engine/training.py\u001b[0m in \u001b[0;36m_assert_weights_created\u001b[0;34m(self)\u001b[0m\n\u001b[1;32m   2669\u001b[0m       \u001b[0;31m# been invoked yet, this will cover both sequential and subclass model.\u001b[0m\u001b[0;34m\u001b[0m\u001b[0;34m\u001b[0m\u001b[0m\n\u001b[1;32m   2670\u001b[0m       \u001b[0;31m# Also make sure to exclude Model class itself which has build() defined.\u001b[0m\u001b[0;34m\u001b[0m\u001b[0;34m\u001b[0m\u001b[0m\n\u001b[0;32m-> 2671\u001b[0;31m       raise ValueError('Weights for model %s have not yet been created. '\n\u001b[0m\u001b[1;32m   2672\u001b[0m                        \u001b[0;34m'Weights are created when the Model is first called on '\u001b[0m\u001b[0;34m\u001b[0m\u001b[0;34m\u001b[0m\u001b[0m\n\u001b[1;32m   2673\u001b[0m                        \u001b[0;34m'inputs or `build()` is called with an `input_shape`.'\u001b[0m \u001b[0;34m%\u001b[0m\u001b[0;34m\u001b[0m\u001b[0;34m\u001b[0m\u001b[0m\n",
      "\u001b[0;31mValueError\u001b[0m: Weights for model sequential have not yet been created. Weights are created when the Model is first called on inputs or `build()` is called with an `input_shape`."
     ]
    }
   ],
   "source": [
    "# 앞의 Sequential model은 어떠한 가중치도 가지고 있지 않음\n",
    "#따라서 앞의 모델을 호출하지 않은 채로 가중치를 알려고하면 error가 남\n",
    "model.weights"
   ]
  },
  {
   "cell_type": "code",
   "execution_count": 3,
   "id": "c56c97ca",
   "metadata": {},
   "outputs": [
    {
     "data": {
      "text/plain": [
       "[<tf.Variable 'dense/kernel:0' shape=(3, 64) dtype=float32, numpy=\n",
       " array([[-0.03429893, -0.06840499, -0.25548923, -0.15090887, -0.05446741,\n",
       "          0.29077595,  0.00093493,  0.23195499, -0.05220948,  0.17095235,\n",
       "          0.29383188,  0.13957876, -0.22747701,  0.15310538, -0.0238882 ,\n",
       "         -0.1636947 , -0.27028418,  0.23652035, -0.27455404, -0.15705118,\n",
       "         -0.18097882, -0.26867208,  0.04314271, -0.1331547 , -0.20433733,\n",
       "         -0.2896378 ,  0.20048392, -0.16181411, -0.07677412,  0.06231898,\n",
       "          0.05354539, -0.06838986,  0.09125051, -0.09372012,  0.15910691,\n",
       "          0.08529791, -0.23802209,  0.26327425, -0.12208915, -0.05915871,\n",
       "         -0.28809813,  0.23330432, -0.2297084 ,  0.25912428, -0.15018535,\n",
       "          0.06181163, -0.06378168, -0.04341155, -0.12918173,  0.140874  ,\n",
       "          0.22717476, -0.14394194,  0.07479081,  0.08318239, -0.07335772,\n",
       "          0.03629616, -0.15076433, -0.09049144, -0.17108928,  0.16159901,\n",
       "          0.1841662 ,  0.02472323, -0.00206822, -0.21901028],\n",
       "        [ 0.02368042,  0.00665271,  0.29686946, -0.1361635 ,  0.11267421,\n",
       "          0.08834323,  0.07961118,  0.24377406,  0.17455354, -0.18463296,\n",
       "          0.134215  , -0.18111181, -0.20972863, -0.01518744,  0.10686982,\n",
       "         -0.21023533, -0.00787497,  0.13974014, -0.0658078 , -0.11604623,\n",
       "         -0.23358242, -0.07964335, -0.18823086, -0.2600661 ,  0.2764634 ,\n",
       "         -0.19436353,  0.12034419, -0.1694682 , -0.01808301,  0.24371338,\n",
       "         -0.01737261, -0.1813591 ,  0.1628361 , -0.12670761,  0.25530016,\n",
       "         -0.04656881, -0.05038854,  0.07720298, -0.09991594,  0.26893908,\n",
       "         -0.04038301, -0.14473589, -0.00381544, -0.01624081,  0.2955202 ,\n",
       "         -0.2909115 , -0.06908457,  0.16563791,  0.01171574, -0.04675981,\n",
       "          0.20105398,  0.11592937, -0.1073447 ,  0.23872584, -0.1568073 ,\n",
       "          0.0199872 ,  0.04886663, -0.08505984,  0.1538083 ,  0.09507808,\n",
       "          0.04703009,  0.02819335, -0.18272662, -0.27467903],\n",
       "        [-0.14487995,  0.28323036, -0.28616697,  0.07375205,  0.20707566,\n",
       "         -0.06467822, -0.00633144,  0.00193316, -0.1481005 , -0.1135637 ,\n",
       "          0.06207147, -0.17566109,  0.23881185, -0.08016811, -0.06836125,\n",
       "         -0.02523088, -0.03480428, -0.20765576, -0.21237661,  0.2842949 ,\n",
       "          0.2572719 ,  0.20495874,  0.0870375 ,  0.246835  ,  0.09436718,\n",
       "         -0.09497705, -0.25711602, -0.09089363,  0.24915576,  0.25356215,\n",
       "          0.12574449,  0.20493686,  0.26732045,  0.05168679, -0.19825637,\n",
       "          0.29084688, -0.18369566,  0.27061695, -0.06173316,  0.20710713,\n",
       "          0.13325474, -0.21632248, -0.07608446,  0.19260803,  0.19418323,\n",
       "          0.2630663 ,  0.12323785, -0.23231836, -0.25781035, -0.03616488,\n",
       "         -0.25045145,  0.1512275 , -0.00347549,  0.24547732,  0.01214647,\n",
       "          0.08007458, -0.16653445,  0.01167965, -0.18612675, -0.27774543,\n",
       "          0.26466614,  0.20955008, -0.22035733, -0.06656493]],\n",
       "       dtype=float32)>,\n",
       " <tf.Variable 'dense/bias:0' shape=(64,) dtype=float32, numpy=\n",
       " array([0., 0., 0., 0., 0., 0., 0., 0., 0., 0., 0., 0., 0., 0., 0., 0., 0.,\n",
       "        0., 0., 0., 0., 0., 0., 0., 0., 0., 0., 0., 0., 0., 0., 0., 0., 0.,\n",
       "        0., 0., 0., 0., 0., 0., 0., 0., 0., 0., 0., 0., 0., 0., 0., 0., 0.,\n",
       "        0., 0., 0., 0., 0., 0., 0., 0., 0., 0., 0., 0., 0.], dtype=float32)>,\n",
       " <tf.Variable 'dense_1/kernel:0' shape=(64, 10) dtype=float32, numpy=\n",
       " array([[-0.04999079,  0.09801954, -0.17072661, -0.18861017,  0.0371277 ,\n",
       "         -0.26824647,  0.12722507, -0.01355773, -0.07113057, -0.20802581],\n",
       "        [-0.22810319,  0.22367558,  0.19302878,  0.22857568,  0.1855411 ,\n",
       "          0.24438456, -0.14588743, -0.08909191,  0.26839504,  0.12640253],\n",
       "        [-0.01787552, -0.2663348 , -0.26086083,  0.12545744, -0.24865818,\n",
       "         -0.06269889, -0.08967052, -0.09850907,  0.1770486 , -0.1527686 ],\n",
       "        [ 0.10318691, -0.08679244, -0.21486829,  0.07872736,  0.01769733,\n",
       "         -0.04531616, -0.03142613, -0.18425873,  0.1455465 ,  0.05486196],\n",
       "        [-0.18661042, -0.01333776,  0.2260693 , -0.27444488, -0.21725011,\n",
       "          0.2668605 ,  0.139624  ,  0.23213431, -0.19261771, -0.18667972],\n",
       "        [-0.0720132 , -0.22559279, -0.05805412,  0.0155842 , -0.15290058,\n",
       "         -0.00540891,  0.13234559, -0.0792298 , -0.10838945,  0.20240596],\n",
       "        [-0.22277208, -0.03897884,  0.02932835,  0.04709038,  0.02900121,\n",
       "         -0.19679222,  0.0316281 ,  0.01597497,  0.26583782,  0.1750808 ],\n",
       "        [ 0.07109946, -0.04293542,  0.10617238, -0.10921572, -0.17951146,\n",
       "          0.2228075 , -0.13581127,  0.10663214, -0.11503728,  0.18236396],\n",
       "        [ 0.20980668, -0.2648314 ,  0.25563827,  0.27380177,  0.05809668,\n",
       "         -0.00175723,  0.1328029 ,  0.26159224,  0.09294719, -0.22413474],\n",
       "        [ 0.11495826, -0.06672294,  0.0172382 ,  0.07148501,  0.09870329,\n",
       "          0.13943118, -0.08621171,  0.26668087, -0.08624424, -0.03104365],\n",
       "        [ 0.14915371,  0.19625622, -0.14005141,  0.27782908, -0.07599068,\n",
       "         -0.2845969 , -0.01489541,  0.21999499, -0.24306418,  0.14524996],\n",
       "        [-0.21695793, -0.1879181 , -0.22407806,  0.03225559, -0.22529605,\n",
       "          0.11467022,  0.27449283, -0.19577911, -0.22021422, -0.26205057],\n",
       "        [ 0.24559829,  0.02793202,  0.12996295,  0.20852807,  0.22813311,\n",
       "         -0.03565975, -0.17958465, -0.26908383,  0.22817817, -0.2648383 ],\n",
       "        [-0.08724709,  0.15894854,  0.16355407, -0.13025936,  0.20025375,\n",
       "         -0.25008473, -0.21362999,  0.25156084, -0.2784242 , -0.16270661],\n",
       "        [ 0.02536479, -0.18401366, -0.04045211,  0.04442036,  0.03782934,\n",
       "         -0.01660323,  0.16708681, -0.14075576,  0.19723466,  0.10354793],\n",
       "        [ 0.09425649, -0.04894863,  0.12412232,  0.07931241, -0.2077582 ,\n",
       "         -0.03465173,  0.08282948, -0.03074315, -0.03185207, -0.14359902],\n",
       "        [-0.23056519, -0.1293739 ,  0.15908235,  0.04083201,  0.10737824,\n",
       "         -0.2364192 , -0.2585526 ,  0.17095777, -0.08218467, -0.05716477],\n",
       "        [-0.02931213,  0.1595664 ,  0.01593703,  0.12526172, -0.23600589,\n",
       "         -0.24562801,  0.2076284 , -0.07120918,  0.1592508 ,  0.16587642],\n",
       "        [-0.15699   ,  0.0105983 ,  0.20833912,  0.17067516, -0.18260896,\n",
       "         -0.14632735, -0.2765988 , -0.05706021,  0.13160399,  0.08087835],\n",
       "        [ 0.16072181, -0.11333625,  0.26596436, -0.08209561,  0.13327411,\n",
       "          0.0206784 , -0.21357405,  0.08562836, -0.10667789, -0.08680989],\n",
       "        [-0.07839952,  0.2127387 , -0.04135497, -0.06491193,  0.03076062,\n",
       "         -0.21806078, -0.04431228,  0.250205  ,  0.25440493,  0.25510737],\n",
       "        [ 0.217657  , -0.12545669, -0.18444122, -0.10532351,  0.05480909,\n",
       "          0.01736957,  0.19018981, -0.15830162, -0.14688276, -0.16700073],\n",
       "        [ 0.26343223,  0.2792587 , -0.070806  , -0.13993709,  0.24775419,\n",
       "         -0.07123566,  0.13234371, -0.08239017, -0.02171758, -0.21511324],\n",
       "        [-0.23075162, -0.06712878, -0.01051351, -0.27143884, -0.04270548,\n",
       "         -0.05817965,  0.1318143 ,  0.04880199, -0.27994514, -0.11065945],\n",
       "        [-0.2813319 ,  0.2148006 ,  0.01674953,  0.18737051,  0.04172903,\n",
       "          0.22426888, -0.11714022, -0.17140958, -0.01003122,  0.16330785],\n",
       "        [-0.18334149, -0.27661014, -0.24227348, -0.02779785,  0.02308947,\n",
       "          0.22818759,  0.22836056,  0.21057042,  0.28349122,  0.26705006],\n",
       "        [ 0.10407618, -0.10506377,  0.15449291, -0.01125649,  0.25910917,\n",
       "         -0.02429974, -0.01213604, -0.23637304, -0.09964424,  0.05403405],\n",
       "        [ 0.24241617,  0.20223346, -0.06935941,  0.10141113, -0.11861965,\n",
       "         -0.1188779 ,  0.1100885 , -0.04094309,  0.21358782,  0.19258955],\n",
       "        [-0.17646745,  0.26123843,  0.22570398, -0.137899  , -0.2074301 ,\n",
       "         -0.2286624 , -0.13820843,  0.09235066, -0.17738003, -0.21793565],\n",
       "        [-0.01101378, -0.11871755, -0.22810856,  0.0181458 ,  0.13953206,\n",
       "          0.28444746,  0.07673129, -0.03726628, -0.2772278 ,  0.04038361],\n",
       "        [ 0.09902468,  0.07192996, -0.19770356,  0.02389628, -0.23853259,\n",
       "          0.18233138,  0.21626416,  0.14841563, -0.20574501, -0.03294012],\n",
       "        [-0.20472267,  0.22724417,  0.04903078, -0.09458196,  0.03125653,\n",
       "          0.25398967,  0.28302923,  0.08877251,  0.00811681, -0.05620244],\n",
       "        [-0.21609403,  0.00669134,  0.10447028, -0.24402943,  0.26373395,\n",
       "         -0.16564417, -0.1473742 ,  0.1272969 , -0.15695247, -0.1231596 ],\n",
       "        [-0.1406489 , -0.04323353,  0.26274195, -0.28460482,  0.10857928,\n",
       "          0.14210397, -0.01968157,  0.15694621, -0.25439277,  0.04398939],\n",
       "        [-0.02827099, -0.18026164, -0.2587921 , -0.16478917, -0.23751506,\n",
       "         -0.20087609, -0.02867737, -0.05201952,  0.12490177, -0.07980259],\n",
       "        [ 0.15002534,  0.07947028,  0.11373746,  0.23347273,  0.11197969,\n",
       "         -0.28090936, -0.16438943,  0.2571216 , -0.22015414, -0.12662187],\n",
       "        [-0.276533  ,  0.02785924,  0.04554141,  0.14814264,  0.14497146,\n",
       "          0.0283466 , -0.27124608,  0.03154764,  0.1209403 , -0.14806063],\n",
       "        [-0.01073164, -0.05290371, -0.11599424, -0.14917876, -0.08700256,\n",
       "         -0.0181058 , -0.04592492, -0.03513959,  0.11756995,  0.0013442 ],\n",
       "        [-0.06186989,  0.25088218, -0.13176623,  0.25478908,  0.21168423,\n",
       "          0.10887805,  0.15328857, -0.09687647, -0.13345022, -0.19154269],\n",
       "        [-0.24194837,  0.23666313,  0.17578939,  0.13997138, -0.24790488,\n",
       "         -0.01087102, -0.22691432, -0.08244489,  0.18588114, -0.11676818],\n",
       "        [-0.12993343, -0.10290422,  0.21972671, -0.04407643,  0.1648511 ,\n",
       "         -0.10873148, -0.05128333, -0.08655748, -0.02174696, -0.04142258],\n",
       "        [ 0.03991333, -0.1363801 ,  0.02427101, -0.14988454,  0.2800565 ,\n",
       "         -0.2673147 , -0.10150258, -0.08978696,  0.09112662,  0.18719909],\n",
       "        [ 0.02410278,  0.16338477,  0.26502565,  0.2588496 ,  0.28111824,\n",
       "         -0.13220663,  0.246959  ,  0.23508224,  0.16967794,  0.15120077],\n",
       "        [ 0.0687429 ,  0.11106455,  0.15135658,  0.26439282,  0.21525031,\n",
       "         -0.1337386 ,  0.04151356, -0.04371275,  0.06979233, -0.01638299],\n",
       "        [-0.09143959,  0.17179573, -0.19776262, -0.18219423,  0.05254301,\n",
       "          0.04010791,  0.17057195,  0.23781118, -0.08578503, -0.03691509],\n",
       "        [-0.1695613 ,  0.16515061,  0.13165128, -0.04146881, -0.23275496,\n",
       "         -0.04617238,  0.04418874, -0.20038444,  0.25629774,  0.26047722],\n",
       "        [-0.2116029 , -0.22858968,  0.10191467,  0.1490387 ,  0.10587537,\n",
       "          0.11344188,  0.18009394,  0.226886  ,  0.23194513, -0.26250517],\n",
       "        [-0.22135639,  0.28241   , -0.06359413, -0.11963792,  0.16473377,\n",
       "          0.10194305,  0.137496  , -0.14541635, -0.04917674, -0.22826579],\n",
       "        [-0.10036503, -0.0040094 ,  0.1099591 ,  0.10469887,  0.07451069,\n",
       "         -0.12406348, -0.26075247,  0.20804301,  0.06019363, -0.06431112],\n",
       "        [-0.18268168,  0.26249656,  0.27376494, -0.19682637, -0.19313218,\n",
       "          0.0501785 , -0.13037512,  0.17060515, -0.06839348, -0.26597273],\n",
       "        [-0.23460792, -0.05867089, -0.00181311,  0.2705473 ,  0.21203107,\n",
       "          0.19483104,  0.27577105,  0.0617041 , -0.22035202, -0.22629571],\n",
       "        [ 0.01837805,  0.07739905, -0.07389604, -0.08084719,  0.13814536,\n",
       "         -0.00071624,  0.17295033, -0.17168888,  0.19615325,  0.10757756],\n",
       "        [ 0.00862539,  0.05198258,  0.19042158,  0.26583907,  0.10702699,\n",
       "         -0.23237275,  0.06842974, -0.11598922,  0.09508929,  0.2649931 ],\n",
       "        [-0.25653392, -0.18354645,  0.19113109,  0.09417415, -0.23044069,\n",
       "          0.15615857,  0.1725254 ,  0.23554656, -0.18890569,  0.2482802 ],\n",
       "        [ 0.01902121,  0.14373153, -0.13779777,  0.02422893, -0.2793048 ,\n",
       "          0.2373186 , -0.1492586 , -0.0440888 ,  0.16751742, -0.01842177],\n",
       "        [-0.2046305 ,  0.27859733,  0.1574685 ,  0.14760259, -0.0325433 ,\n",
       "          0.02991024, -0.09030536,  0.0738574 , -0.13376679,  0.04083785],\n",
       "        [-0.2347955 ,  0.00144854, -0.04466619, -0.22358036, -0.23318306,\n",
       "          0.13986954, -0.1653792 ,  0.21030152,  0.03099951, -0.14893864],\n",
       "        [ 0.17107332,  0.11169013, -0.20072305,  0.28130415, -0.12930627,\n",
       "          0.23386922,  0.07119331,  0.03613946, -0.0984959 ,  0.08770236],\n",
       "        [ 0.02921131, -0.22047627, -0.17106748, -0.21780089, -0.23991895,\n",
       "          0.15844399,  0.2797018 ,  0.1827484 ,  0.08289778, -0.23971373],\n",
       "        [-0.06195571, -0.19659989, -0.18470877, -0.13637426, -0.06043003,\n",
       "          0.12025076,  0.07930347, -0.24486053,  0.07051265,  0.13902974],\n",
       "        [ 0.21967784,  0.11254922, -0.16229649,  0.08829352,  0.02436465,\n",
       "          0.19263217, -0.20541732, -0.25781837,  0.1706051 ,  0.14846784],\n",
       "        [ 0.14846238,  0.24855587, -0.21406516, -0.15578403,  0.26696226,\n",
       "         -0.01160243, -0.23630738,  0.07845199,  0.14091855, -0.21516442],\n",
       "        [-0.21029848,  0.27295044, -0.14854155, -0.07791017,  0.1733768 ,\n",
       "          0.1884746 , -0.03853743,  0.02551889, -0.05188416,  0.13374826],\n",
       "        [-0.05499972, -0.26662278, -0.05956247,  0.19491631, -0.01676431,\n",
       "         -0.2847095 , -0.01420423, -0.2458291 , -0.16198319, -0.20295519]],\n",
       "       dtype=float32)>,\n",
       " <tf.Variable 'dense_1/bias:0' shape=(10,) dtype=float32, numpy=array([0., 0., 0., 0., 0., 0., 0., 0., 0., 0.], dtype=float32)>]"
      ]
     },
     "execution_count": 3,
     "metadata": {},
     "output_type": "execute_result"
    }
   ],
   "source": [
    "# 가중치를 생성하려면 어떤 데이터로 호출을 하거나 입력 크기를 지정하여 build()메서드를 호출해야함\n",
    "model.build(input_shape = (None, 3)) # 크기가 (3,)인 샘플을 기대, 입력크기 None은 어떤 배치크기도 가능하다는 뜻\n",
    "model.weights"
   ]
  },
  {
   "cell_type": "code",
   "execution_count": 4,
   "id": "2a752b26",
   "metadata": {},
   "outputs": [
    {
     "name": "stdout",
     "output_type": "stream",
     "text": [
      "Model: \"sequential\"\n",
      "_________________________________________________________________\n",
      "Layer (type)                 Output Shape              Param #   \n",
      "=================================================================\n",
      "dense (Dense)                (None, 64)                256       \n",
      "_________________________________________________________________\n",
      "dense_1 (Dense)              (None, 10)                650       \n",
      "=================================================================\n",
      "Total params: 906\n",
      "Trainable params: 906\n",
      "Non-trainable params: 0\n",
      "_________________________________________________________________\n"
     ]
    }
   ],
   "source": [
    "# 모델의 구조를 출력해보자\n",
    "# model.built()를 호출하기 전에 summary()method를 호출할 수 없음.\n",
    "model.summary()"
   ]
  },
  {
   "cell_type": "code",
   "execution_count": 6,
   "id": "3514c72f",
   "metadata": {},
   "outputs": [
    {
     "name": "stdout",
     "output_type": "stream",
     "text": [
      "Model: \"my totoro_model\"\n",
      "_________________________________________________________________\n",
      "Layer (type)                 Output Shape              Param #   \n",
      "=================================================================\n",
      "my_first_totoro (Dense)      (None, 64)                256       \n",
      "_________________________________________________________________\n",
      "my_last_totoro (Dense)       (None, 10)                650       \n",
      "=================================================================\n",
      "Total params: 906\n",
      "Trainable params: 906\n",
      "Non-trainable params: 0\n",
      "_________________________________________________________________\n"
     ]
    }
   ],
   "source": [
    "# 케라스에서는 모델과 층을 포함해서 모든 것에 이름을 지정할 수 있음\n",
    "model = keras.Sequential(name = \"my totoro_model\")\n",
    "model.add(layers.Dense(64, activation = 'relu', name = \"my_first_totoro\"))\n",
    "model.add(layers.Dense(10, activation = 'softmax', name = \"my_last_totoro\"))\n",
    "model.build((None, 3))\n",
    "model.summary()"
   ]
  },
  {
   "cell_type": "markdown",
   "id": "5b53c777",
   "metadata": {},
   "source": [
    "### 모델의 가중치를 바로 생성하는 방법"
   ]
  },
  {
   "cell_type": "code",
   "execution_count": 8,
   "id": "6ca0f61f",
   "metadata": {},
   "outputs": [],
   "source": [
    "model = keras.Sequential(name = \"add_weights\")\n",
    "model.add(keras.Input(shape=(3,))) # Input layer을 먼저 추가하면 build method를 부르지 않아도 가능하다\n",
    "model.add(layers.Dense(64, activation = 'relu'))"
   ]
  },
  {
   "cell_type": "code",
   "execution_count": 9,
   "id": "df773567",
   "metadata": {},
   "outputs": [
    {
     "name": "stdout",
     "output_type": "stream",
     "text": [
      "Model: \"add_weights\"\n",
      "_________________________________________________________________\n",
      "Layer (type)                 Output Shape              Param #   \n",
      "=================================================================\n",
      "dense_3 (Dense)              (None, 64)                256       \n",
      "=================================================================\n",
      "Total params: 256\n",
      "Trainable params: 256\n",
      "Non-trainable params: 0\n",
      "_________________________________________________________________\n"
     ]
    }
   ],
   "source": [
    "model.summary()"
   ]
  },
  {
   "cell_type": "markdown",
   "id": "38562cdb",
   "metadata": {},
   "source": [
    "단점: Sequential model은 사용하기는 쉽지만 적용할 수 있는 곳이 극히 제한적이다. 하나의 입력과 하나의 출력을 가지며 순서대로 층을 쌓은 모델만 사용이 가능하다. "
   ]
  },
  {
   "cell_type": "markdown",
   "id": "8efa8e39",
   "metadata": {},
   "source": [
    "# 함수형 API"
   ]
  },
  {
   "cell_type": "markdown",
   "id": "563ed11c",
   "metadata": {},
   "source": [
    "- 다중 입력 (이미지와 이미지의 메타데이터), 다중출력 (여러가지 항목을 예측하는 모델), 비선형적인 구조를 가진 모델에서 사용함"
   ]
  },
  {
   "cell_type": "code",
   "execution_count": 15,
   "id": "e98b13fd",
   "metadata": {},
   "outputs": [],
   "source": [
    "inputs = keras.Input(shape = (3,), name = 'my input')\n",
    "features = layers.Dense(64, activation= \"relu\")(inputs)\n",
    "outputs = layers.Dense(10, activation = \"softmax\")(features)\n",
    "model = keras.Model(inputs=inputs, outputs=outputs)"
   ]
  },
  {
   "cell_type": "markdown",
   "id": "4fde557d",
   "metadata": {},
   "source": [
    "함수형 API 만드는 순서\n",
    "* Input 클래스 객체를 정의하는 것으로 시작함\n",
    "* features클래스 객체에 그 다음 층을 만듦\n",
    "* outputs 클래스 객체를 생성하여 최종 출력을 얻음\n",
    "* Model() 클래스에서 모델 객체를 생성함"
   ]
  },
  {
   "cell_type": "code",
   "execution_count": 13,
   "id": "7dd9c4c6",
   "metadata": {},
   "outputs": [
    {
     "name": "stdout",
     "output_type": "stream",
     "text": [
      "inputs data type: <dtype: 'float32'>\n",
      "inputs shape: (None, 3)\n",
      "\n",
      "\n",
      "features data type: <dtype: 'float32'>\n",
      "features shape: (None, 64)\n",
      "\n",
      "\n",
      "outputs data type: <dtype: 'float32'>\n",
      "outputs shape: (None, 10)\n"
     ]
    }
   ],
   "source": [
    "print(\"inputs data type: \"+str(inputs.dtype))\n",
    "print(\"inputs shape: \"+str(inputs.shape))\n",
    "print(\"\\n\")\n",
    "print(\"features data type: \"+str(features.dtype))\n",
    "print(\"features shape: \"+str(features.shape))\n",
    "print(\"\\n\")\n",
    "print(\"outputs data type: \"+str(outputs.dtype))\n",
    "print(\"outputs shape: \"+str(outputs.shape))"
   ]
  },
  {
   "cell_type": "code",
   "execution_count": 16,
   "id": "cab6b3da",
   "metadata": {},
   "outputs": [
    {
     "name": "stdout",
     "output_type": "stream",
     "text": [
      "Model: \"model_2\"\n",
      "_________________________________________________________________\n",
      "Layer (type)                 Output Shape              Param #   \n",
      "=================================================================\n",
      "my input (InputLayer)        [(None, 3)]               0         \n",
      "_________________________________________________________________\n",
      "dense_8 (Dense)              (None, 64)                256       \n",
      "_________________________________________________________________\n",
      "dense_9 (Dense)              (None, 10)                650       \n",
      "=================================================================\n",
      "Total params: 906\n",
      "Trainable params: 906\n",
      "Non-trainable params: 0\n",
      "_________________________________________________________________\n"
     ]
    }
   ],
   "source": [
    "model.summary()"
   ]
  },
  {
   "cell_type": "markdown",
   "id": "5e08a714",
   "metadata": {},
   "source": [
    "### 다중 입력, 다중 출력 모델"
   ]
  },
  {
   "cell_type": "markdown",
   "id": "2568e8b4",
   "metadata": {},
   "source": [
    "고객 이슈 티켓에 우선순위를 지정하고 적절한 부서로 전달하는 시스템을 만든다고 가정해보자\n",
    "모델은 3개의 입력이 필요\n",
    "* 이슈 티켓의 제목 (txt 입력)\n",
    "* 이슈 티켓의 텍스트 본문(txt 입력)\n",
    "* 사용자가 추가한 태그 (범주형 입력으로 여기에서는 원-핫 인코딩이 되었다고 가정)\n",
    "\n",
    "2개의 출력이 필요\n",
    "* 이슈 티켓의 우선순위 점수로 0과 1 사이의 스칼라 (sigmoid 출력)\n",
    "* 이슈 티켓을 처리해야할 부서 (전체 부서 집합에 대한 softmax 출력)"
   ]
  },
  {
   "cell_type": "code",
   "execution_count": 17,
   "id": "4d45d623",
   "metadata": {},
   "outputs": [],
   "source": [
    "vocabulary_size = 10000\n",
    "num_tags = 100\n",
    "num_departments = 4\n",
    "\n",
    "title = keras.Input(shape=(vocabulary_size,), name=\"title\") # 이슈 티켓 제목\n",
    "text_body = keras.Input(shape=(vocabulary_size,), name=\"text_body\") # 이슈 티켓 텍스트 본문\n",
    "tags = keras.Input(shape=(num_tags,), name=\"tags\") # 사용자가 추가한 태그\n",
    "\n",
    "features = layers.Concatenate()([title, text_body, tags]) # Input을 다 합치기\n",
    "features = layers.Dense(64, activation=\"relu\")(features) # 중간층을 적용하여 입력 특성을 더 풍부한 표현으로 재결합시킴\n",
    "\n",
    "priority = layers.Dense(1, activation=\"sigmoid\", name=\"priority\")(features) # 우선순위 아웃풋\n",
    "department = layers.Dense(\n",
    "    num_departments, activation=\"softmax\", name=\"department\")(features) # 부서 아웃풋\n",
    "\n",
    "model = keras.Model(inputs=[title, text_body, tags], outputs=[priority, department])"
   ]
  },
  {
   "cell_type": "markdown",
   "id": "b4e85561",
   "metadata": {},
   "source": [
    "##### 위에서 만든 모델을 훈련시키기 - fit()"
   ]
  },
  {
   "cell_type": "code",
   "execution_count": 18,
   "id": "74316276",
   "metadata": {},
   "outputs": [
    {
     "name": "stdout",
     "output_type": "stream",
     "text": [
      "40/40 [==============================] - 3s 26ms/step - loss: 15.9880 - priority_loss: 0.3230 - department_loss: 15.6650 - priority_mean_absolute_error: 0.4877 - department_accuracy: 0.2320\n",
      "40/40 [==============================] - 0s 7ms/step - loss: 9.0772 - priority_loss: 0.3285 - department_loss: 8.7487 - priority_mean_absolute_error: 0.4919 - department_accuracy: 0.2531\n"
     ]
    }
   ],
   "source": [
    "import numpy as np\n",
    "\n",
    "num_samples = 1280\n",
    "\n",
    "title_data = np.random.randint(0, 2, size=(num_samples, vocabulary_size))\n",
    "text_body_data = np.random.randint(0, 2, size=(num_samples, vocabulary_size))\n",
    "tags_data = np.random.randint(0, 2, size=(num_samples, num_tags))\n",
    "\n",
    "priority_data = np.random.random(size=(num_samples, 1))\n",
    "department_data = np.random.randint(0, 2, size=(num_samples, num_departments))\n",
    "\n",
    "model.compile(optimizer=\"rmsprop\",\n",
    "              loss=[\"mean_squared_error\", \"categorical_crossentropy\"],\n",
    "              metrics=[[\"mean_absolute_error\"], [\"accuracy\"]])\n",
    "model.fit([title_data, text_body_data, tags_data],\n",
    "          [priority_data, department_data],\n",
    "          epochs=1)\n",
    "model.evaluate([title_data, text_body_data, tags_data],\n",
    "               [priority_data, department_data])\n",
    "priority_preds, department_preds = model.predict([title_data, text_body_data, tags_data])"
   ]
  },
  {
   "cell_type": "markdown",
   "id": "f1a379ca",
   "metadata": {},
   "source": [
    "#### Input과 Output에 부여한 이름을 딕셔너리로 전달하기"
   ]
  },
  {
   "cell_type": "code",
   "execution_count": null,
   "id": "1c22415b",
   "metadata": {},
   "outputs": [],
   "source": [
    "# 입력 순서에 신경쓰고 싶지 않다면 (입력, 출력이 많은 경우) \n",
    "# Input 객체와 출력 층에 부여한 이름을 활용해서 데이터를 딕셔너리로 전달 가능.\n",
    "model.compile(optimizer=\"rmsprop\",\n",
    "              loss={\"priority\": \"mean_squared_error\", \"department\": \"categorical_crossentropy\"},\n",
    "              metrics={\"priority\": [\"mean_absolute_error\"], \"department\": [\"accuracy\"]})\n",
    "model.fit({\"title\": title_data, \"text_body\": text_body_data, \"tags\": tags_data},\n",
    "          {\"priority\": priority_data, \"department\": department_data},\n",
    "          epochs=1)\n",
    "model.evaluate({\"title\": title_data, \"text_body\": text_body_data, \"tags\": tags_data},\n",
    "               {\"priority\": priority_data, \"department\": department_data})\n",
    "priority_preds, department_preds = model.predict(\n",
    "    {\"title\": title_data, \"text_body\": text_body_data, \"tags\": tags_data})"
   ]
  },
  {
   "cell_type": "markdown",
   "id": "51074273",
   "metadata": {},
   "source": [
    "### 함수형 API의 장점: 층 연결 구조 활용하기"
   ]
  },
  {
   "cell_type": "markdown",
   "id": "827f1b6a",
   "metadata": {},
   "source": [
    "- 그래프 데이터 구조이기 때문에 모델 시각화와 특성 추출이 가능"
   ]
  },
  {
   "cell_type": "markdown",
   "id": "e5ee1e68",
   "metadata": {},
   "source": [
    "#### 모델 시각화"
   ]
  },
  {
   "cell_type": "code",
   "execution_count": 20,
   "id": "613915dc",
   "metadata": {},
   "outputs": [
    {
     "data": {
      "image/png": "[encoded data removed]",
      "text/plain": [
       "<IPython.core.display.Image object>"
      ]
     },
     "execution_count": 20,
     "metadata": {},
     "output_type": "execute_result"
    }
   ],
   "source": [
    "# 위의 모델을 시각화 해보기\n",
    "\n",
    "keras.utils.plot_model(model, \"ticket_classifier.png\")"
   ]
  },
  {
   "cell_type": "code",
   "execution_count": 21,
   "id": "39571b8d",
   "metadata": {},
   "outputs": [
    {
     "data": {
      "image/png": "[encoded data removed]",
      "text/plain": [
       "<IPython.core.display.Image object>"
      ]
     },
     "execution_count": 21,
     "metadata": {},
     "output_type": "execute_result"
    }
   ],
   "source": [
    "# 입출력 크기를 추가해서 시각화 \n",
    "keras.utils.plot_model(model, \"ticket_classifier_with_shape_info.png\", show_shapes=True)"
   ]
  },
  {
   "cell_type": "markdown",
   "id": "9ed2df4e",
   "metadata": {},
   "source": [
    "* 텐서크기에 None은 배치크기를 나타냄: 어떤 크기의 배치에서도 사용가능.\n",
    "* 층 연결 구조를 참조해 그래프에 있는 개별 노드를 조사하고 재사용 할 수 있음"
   ]
  },
  {
   "cell_type": "code",
   "execution_count": 22,
   "id": "3f9eea26",
   "metadata": {},
   "outputs": [
    {
     "data": {
      "text/plain": [
       "[<keras.engine.input_layer.InputLayer at 0x7c709f0f6310>,\n",
       " <keras.engine.input_layer.InputLayer at 0x7c709f0f6f40>,\n",
       " <keras.engine.input_layer.InputLayer at 0x7c709f0f6e80>,\n",
       " <keras.layers.merge.Concatenate at 0x7c709cf2c940>,\n",
       " <keras.layers.core.Dense at 0x7c709cf2ca60>,\n",
       " <keras.layers.core.Dense at 0x7c711837a4f0>,\n",
       " <keras.layers.core.Dense at 0x7c709cef08e0>]"
      ]
     },
     "execution_count": 22,
     "metadata": {},
     "output_type": "execute_result"
    }
   ],
   "source": [
    "model.layers"
   ]
  },
  {
   "cell_type": "code",
   "execution_count": 23,
   "id": "1e480c16",
   "metadata": {},
   "outputs": [
    {
     "data": {
      "text/plain": [
       "[<KerasTensor: shape=(None, 10000) dtype=float32 (created by layer 'title')>,\n",
       " <KerasTensor: shape=(None, 10000) dtype=float32 (created by layer 'text_body')>,\n",
       " <KerasTensor: shape=(None, 100) dtype=float32 (created by layer 'tags')>]"
      ]
     },
     "execution_count": 23,
     "metadata": {},
     "output_type": "execute_result"
    }
   ],
   "source": [
    "model.layers[3].input"
   ]
  },
  {
   "cell_type": "code",
   "execution_count": 24,
   "id": "1e4e1f16",
   "metadata": {},
   "outputs": [
    {
     "data": {
      "text/plain": [
       "<KerasTensor: shape=(None, 20100) dtype=float32 (created by layer 'concatenate')>"
      ]
     },
     "execution_count": 24,
     "metadata": {},
     "output_type": "execute_result"
    }
   ],
   "source": [
    "model.layers[3].output"
   ]
  },
  {
   "cell_type": "markdown",
   "id": "c7a967eb",
   "metadata": {},
   "source": [
    "이를 활용해 특성추출(feature extraction)을 수행하여 다른 모델에서 중간 특성을 재사용하는 모델을 만들 수 있다."
   ]
  },
  {
   "cell_type": "markdown",
   "id": "4acba400",
   "metadata": {},
   "source": [
    "#### 모델에서 특성추출하기"
   ]
  },
  {
   "cell_type": "markdown",
   "id": "9c9bb993",
   "metadata": {},
   "source": [
    "이전 모델에 또 다른 출력을 추가한다고 가정해보자. 이슈 티켓이 해결되는데 걸리는 시간을 추정해보기 위해 'quick','medium','difficult' 3개의 범주에 대한 분류 층을 추가해보자. 함수형 api를 이용한다면 모델을 처음부터 다시 만들고 재훈련할 필요없이 중간층을 참조하여 이전 모델의 중간 특성에서 시작할 수 있다."
   ]
  },
  {
   "cell_type": "code",
   "execution_count": 25,
   "id": "411e0734",
   "metadata": {},
   "outputs": [],
   "source": [
    "features = model.layers[4].output\n",
    "difficulty = layers.Dense(3, activation=\"softmax\", name=\"difficulty\")(features) # 층 하나를 추가\n",
    "\n",
    "new_model = keras.Model(\n",
    "    inputs=[title, text_body, tags],\n",
    "    outputs=[priority, department, difficulty]) # output 값을 3개 낼 수 있게 함."
   ]
  },
  {
   "cell_type": "code",
   "execution_count": 26,
   "id": "b0951224",
   "metadata": {},
   "outputs": [
    {
     "data": {
      "image/png": "[encoded data removed]",
      "text/plain": [
       "<IPython.core.display.Image object>"
      ]
     },
     "execution_count": 26,
     "metadata": {},
     "output_type": "execute_result"
    }
   ],
   "source": [
    "keras.utils.plot_model(new_model, \"updated_ticket_classifier.png\", show_shapes=True)"
   ]
  },
  {
   "cell_type": "markdown",
   "id": "a83bc3b5",
   "metadata": {},
   "source": [
    "# Model Subclassing"
   ]
  },
  {
   "cell_type": "markdown",
   "id": "a7e20349",
   "metadata": {},
   "source": [
    "#### Model클래스를 상속하는 방법\n",
    "* __init__() method에서 모델이 사용할 층을 정의하기\n",
    "* call()method에서 앞서 만든 층을 사용하여 모델의 정방향 패스를 정의하기\n",
    "* 서브클래스의 객체를 만들고 데이터와 함께 호출하여 가중치를 만들기\n",
    "\n",
    "위의 예시로 subclassing 모델을 만들어 보자"
   ]
  },
  {
   "cell_type": "code",
   "execution_count": 27,
   "id": "77db1d44",
   "metadata": {},
   "outputs": [],
   "source": [
    "class CustomerTicketModel(keras.Model):\n",
    "\n",
    "    def __init__(self, num_departments): # 모델이 사용할 층 미리 정의\n",
    "        super().__init__()\n",
    "        self.concat_layer = layers.Concatenate()\n",
    "        self.mixing_layer = layers.Dense(64, activation=\"relu\")\n",
    "        self.priority_scorer = layers.Dense(1, activation=\"sigmoid\")\n",
    "        self.department_classifier = layers.Dense(\n",
    "            num_departments, activation=\"softmax\")\n",
    "\n",
    "    def call(self, inputs): # call할때 input 특성을 하나의 텐서로 연결하고 위에서 만들었던 층에 고대로 넣어주기\n",
    "        title = inputs[\"title\"]\n",
    "        text_body = inputs[\"text_body\"]\n",
    "        tags = inputs[\"tags\"]\n",
    "\n",
    "        features = self.concat_layer([title, text_body, tags])\n",
    "        features = self.mixing_layer(features)\n",
    "        priority = self.priority_scorer(features)\n",
    "        department = self.department_classifier(features)\n",
    "        return priority, department"
   ]
  },
  {
   "cell_type": "markdown",
   "id": "045dc9d9",
   "metadata": {},
   "source": [
    "모델을 정의하고 나면 이 클래스의 객체를 만들 수 있음. Layer클래스와 마찬가지로 어떤 데이터로 처음 호출할 때 가중치를 만듦."
   ]
  },
  {
   "cell_type": "code",
   "execution_count": 28,
   "id": "8e10ffb2",
   "metadata": {},
   "outputs": [],
   "source": [
    "model = CustomerTicketModel(num_departments=4)\n",
    "\n",
    "priority, department = model(\n",
    "    {\"title\": title_data, \"text_body\": text_body_data, \"tags\": tags_data})"
   ]
  },
  {
   "cell_type": "markdown",
   "id": "a9780434",
   "metadata": {},
   "source": [
    "이 부분은 Layer 클래스 상속과 매우 비슷하다. 그렇다면 Layer class와 Model class의 차이점은?\n",
    "* 'layer'는 모델을 만드는 데 사용하는 구성요소이고, 'model'은 실제로 훈련하고 추론에 사용하는 최상위 객체이다.\n",
    "* 'model'클래스는 fit(),evaluate(), predict() method를 가지고 있음. 하지만 Layer클래스는 이것들을 가지고 있지 않음\n",
    "\n",
    "\n",
    "<br><br>\n",
    "Sequential이나 Functional 모델과 마찬가지로 Model을 상속하여 만든 모델을 컴파일하고 훈련할 수 있음"
   ]
  },
  {
   "cell_type": "code",
   "execution_count": 29,
   "id": "2956c00f",
   "metadata": {},
   "outputs": [
    {
     "name": "stdout",
     "output_type": "stream",
     "text": [
      "40/40 [==============================] - 1s 20ms/step - loss: 42.3097 - output_1_loss: 0.3372 - output_2_loss: 41.9725 - output_1_mean_absolute_error: 0.5007 - output_2_accuracy: 0.2703\n",
      "40/40 [==============================] - 0s 7ms/step - loss: 50.8331 - output_1_loss: 0.3448 - output_2_loss: 50.4884 - output_1_mean_absolute_error: 0.5081 - output_2_accuracy: 0.1344\n"
     ]
    }
   ],
   "source": [
    "model.compile(optimizer=\"rmsprop\",\n",
    "              loss=[\"mean_squared_error\", \"categorical_crossentropy\"],\n",
    "              metrics=[[\"mean_absolute_error\"], [\"accuracy\"]])\n",
    "model.fit({\"title\": title_data,\n",
    "           \"text_body\": text_body_data,\n",
    "           \"tags\": tags_data},\n",
    "          [priority_data, department_data],\n",
    "          epochs=1)\n",
    "model.evaluate({\"title\": title_data,\n",
    "                \"text_body\": text_body_data,\n",
    "                \"tags\": tags_data},\n",
    "               [priority_data, department_data])\n",
    "priority_preds, department_preds = model.predict({\"title\": title_data,\n",
    "                                                  \"text_body\": text_body_data,\n",
    "                                                  \"tags\": tags_data})"
   ]
  },
  {
   "cell_type": "markdown",
   "id": "b258eb97",
   "metadata": {},
   "source": [
    "Class model은 모델을 만드는 가장 유연한 방법\n",
    "* 층의 유향 비순환 그래프로 표현할 수 없는 모델을 만들 수 있음\n",
    "  ex) call()메서드가 for루프 안에서 층을 사용하거나 재귀적으로 호출하는 모델로 만드는 것도 가능.\n",
    "  \n",
    "하지만 유연한 만큼 잠재적인 오류 가능성이 훨씬 큽니다. 따라서 더 많은 디버깅 작업을 해야함."
   ]
  },
  {
   "cell_type": "markdown",
   "id": "60bcbbc4",
   "metadata": {},
   "source": [
    "#### 함수형과 subclassing 모델의 차이\n",
    "함수형 모델: \n",
    "   * 명시적 데이터 구조인 층의 그래프이므로 출력하고 조사하고 수정이 가능\n",
    "<br>\n",
    "<br>\n",
    "\n",
    "서브클래싱 모델:\n",
    "   * 한 덩어리의 바이트코드이고 원시 코드가 담긴 call 메서드로인해 유연성을 가지지만 새로운 제약이 발생함.\n",
    "   * 층이 연결되는 방식이 call()메서드 안에 감추어지기 때문에 summary()메서드가 층의 연결 구조를 출력할 수 없고 plot_model()함수로 모델의 구조를 그래프로 그릴 수 없다\n",
    "   * 그래프가 없기 때문에 특성 추출을 하기 위해서 필요한 층 그래프의 노드가 없기 때문에 특성 추출이 불가능하다.\n",
    "   * 이 객체를 생성 후 정방향 패스는 완전한 블랙박스가 됨."
   ]
  },
  {
   "cell_type": "markdown",
   "id": "5ba6b70e",
   "metadata": {},
   "source": [
    "# 여러방식을 혼합하여 사용\n",
    "* 모델을 상호 운영하여 사용할 수 있음"
   ]
  },
  {
   "cell_type": "markdown",
   "id": "b58105ed",
   "metadata": {},
   "source": [
    "#### subclassing한 모델을 포함하는 함수형 모델\n",
    "* 먼저 subclassing한 모델을 만들기\n",
    "* 함수형 모델 출력층에 subclassing 모델을 포함하기"
   ]
  },
  {
   "cell_type": "code",
   "execution_count": 30,
   "id": "2372739c",
   "metadata": {},
   "outputs": [],
   "source": [
    "class Classifier(keras.Model):\n",
    "\n",
    "    def __init__(self, num_classes=2):\n",
    "        super().__init__()\n",
    "        if num_classes == 2:\n",
    "            num_units = 1\n",
    "            activation = \"sigmoid\"\n",
    "        else:\n",
    "            num_units = num_classes\n",
    "            activation = \"softmax\"\n",
    "        self.dense = layers.Dense(num_units, activation=activation)\n",
    "\n",
    "    def call(self, inputs):\n",
    "        return self.dense(inputs)\n",
    "\n",
    "inputs = keras.Input(shape=(3,))\n",
    "features = layers.Dense(64, activation=\"relu\")(inputs)\n",
    "outputs = Classifier(num_classes=10)(features)\n",
    "model = keras.Model(inputs=inputs, outputs=outputs)"
   ]
  },
  {
   "cell_type": "markdown",
   "id": "8b395e98",
   "metadata": {},
   "source": [
    "#### 함수형 모델을 포함하는 subclassing 모델\n",
    "* 먼저 함수형 모델을 만들기\n",
    "* Subclassing 모델에 위에서 만들었던 함수형 모델을 적용하기"
   ]
  },
  {
   "cell_type": "code",
   "execution_count": 31,
   "id": "f7759a14",
   "metadata": {},
   "outputs": [],
   "source": [
    "inputs = keras.Input(shape=(64,))\n",
    "outputs = layers.Dense(1, activation=\"sigmoid\")(inputs)\n",
    "binary_classifier = keras.Model(inputs=inputs, outputs=outputs)\n",
    "\n",
    "class MyModel(keras.Model):\n",
    "\n",
    "    def __init__(self, num_classes=2):\n",
    "        super().__init__()\n",
    "        self.dense = layers.Dense(64, activation=\"relu\")\n",
    "        self.classifier = binary_classifier\n",
    "\n",
    "    def call(self, inputs):\n",
    "        features = self.dense(inputs)\n",
    "        return self.classifier(features)\n",
    "\n",
    "model = MyModel()"
   ]
  },
  {
   "cell_type": "markdown",
   "id": "b6c6a6be",
   "metadata": {},
   "source": [
    "### 각각의 워크플로를 언제 사용해야하는가?\n",
    "\n",
    "함수형 API: 사용성과 유연성 사이의 적절한 절충점. \n",
    "   * 층 연결 구조를 활용하여 모델 출력이나 특성 추출이 필요할때\n",
    "   * 모델을 층의 유향 비순환 그래프로 표현할때\n",
    "   \n",
    "Subclassing 층을 포함한 함수형 모델: 함수형 API의 장점을 유지 + 높은 개발 유연성 제공"
   ]
  },
  {
   "cell_type": "markdown",
   "id": "d9b88b3e",
   "metadata": {},
   "source": [
    "# 사용자 정의 훈련\n",
    "* 내장 fit() 메서드로 충분하지 않다면 자신만의 훈련 로직을 직접 작성해야함.\n",
    "\n",
    "훈련 로직 작성 과정\n",
    "1. 현재 배치 데이터에 대한 손실 값을 얻기 위해 gradient tape안에서 정방향 패스를 실행하기 (모델의 출력을 계산)\n",
    "2. 모델 가중치에 대한 손실의 gradient를 계산하기\n",
    "3. 현재 배치 데이터에 대한 손실 값을 낮추는 방향으로 모델 가중치를 업데이트하기"
   ]
  },
  {
   "cell_type": "markdown",
   "id": "06274b37",
   "metadata": {},
   "source": [
    "## 훈련 vs 추론\n",
    "* dropout층과 같은 일부 케라스 층은 훈련과 추론에서 동작이 다름\n",
    "    * 이런 층에서는 call()메서드에 training boolean 매개변수를 제공.\n",
    "    * dropout(inputs, training = True) : 활성화 출력값을 일부 랜덤하게 제외\n",
    "    * dropout(inputs, training = False) : 호출하면 아무런 일을 수행하지 않음\n",
    "    * 정방향 패스에서 케라스 모델을 호출할 때는 'training = True' 로 지정해야만 함\n",
    "    * 모델 가중치 gradient 추출시 tape.gradients(loss, model.trainable_weights)를 사용해야만 함 model.weights(x)\n",
    "        * 훈련 가능한 가중치 (trainable_weights): Dense층의 커널과 편향처럼 모델의 손실을 최소화하기 위해 \"역전파로 업데이트\"됨\n",
    "        * 훈련되지 않는 가중치: 해당 층의 \"정방향 패스 동안 업데이트\"됨, Batch Normalization층에만 이것이 존재. (이 층에서는 처리하는 데이터의 평균과 표준 편차에 대한 정보를 추적하여 특성 정규화를 실시간으로 근사하기 위해 훈련되지 않는 가중치가 필요함)"
   ]
  },
  {
   "cell_type": "code",
   "execution_count": 32,
   "id": "96b0269b",
   "metadata": {},
   "outputs": [],
   "source": [
    "def train_step(inputs, targets):\n",
    "    with tf.Gradient() as tape:\n",
    "        loss = loss_fn(targets, predictions)\n",
    "    gradients = tape.gradients(loss, model.trainable_weights)\n",
    "    optimizer.apply_gradients(zip(model.trainable_weights, gradients))"
   ]
  },
  {
   "cell_type": "markdown",
   "id": "6927a6b2",
   "metadata": {},
   "source": [
    "## 측정 지표의 저수준 사용법"
   ]
  },
  {
   "cell_type": "code",
   "execution_count": 33,
   "id": "3d33f5ba",
   "metadata": {},
   "outputs": [
    {
     "name": "stdout",
     "output_type": "stream",
     "text": [
      "결과: 1.00\n"
     ]
    }
   ],
   "source": [
    "metric = keras.metrics.SparseCategoricalAccuracy()\n",
    "targets = [0, 1, 2]\n",
    "predictions = [[1, 0, 0], [0, 1, 0], [0, 0, 1]]\n",
    "metric.update_state(targets, predictions)\n",
    "current_result = metric.result()\n",
    "print(f\"결과: {current_result:.2f}\")"
   ]
  },
  {
   "cell_type": "code",
   "execution_count": 34,
   "id": "e1f5a993",
   "metadata": {},
   "outputs": [
    {
     "name": "stdout",
     "output_type": "stream",
     "text": [
      "평균 지표: 2.00\n"
     ]
    }
   ],
   "source": [
    "values = [0, 1, 2, 3, 4]\n",
    "mean_tracker = keras.metrics.Mean()\n",
    "for value in values:\n",
    "    mean_tracker.update_state(value)\n",
    "print(f\"평균 지표: {mean_tracker.result():.2f}\")"
   ]
  },
  {
   "cell_type": "code",
   "execution_count": 36,
   "id": "db356549",
   "metadata": {},
   "outputs": [
    {
     "name": "stdout",
     "output_type": "stream",
     "text": [
      "Downloading data from https://storage.googleapis.com/tensorflow/tf-keras-datasets/mnist.npz\n",
      "11493376/11490434 [==============================] - 0s 0us/step\n",
      "11501568/11490434 [==============================] - 0s 0us/step\n",
      "Epoch 1/3\n",
      "1563/1563 [==============================] - 10s 6ms/step - loss: 0.2954 - accuracy: 0.9123 - val_loss: 0.1456 - val_accuracy: 0.9587\n",
      "Epoch 2/3\n",
      "1563/1563 [==============================] - 9s 6ms/step - loss: 0.1639 - accuracy: 0.9540 - val_loss: 0.1245 - val_accuracy: 0.9669\n",
      "Epoch 3/3\n",
      "1563/1563 [==============================] - 10s 6ms/step - loss: 0.1394 - accuracy: 0.9616 - val_loss: 0.1252 - val_accuracy: 0.9690\n",
      "313/313 [==============================] - 1s 2ms/step - loss: 0.1148 - accuracy: 0.9712\n"
     ]
    }
   ],
   "source": [
    "from tensorflow.keras.datasets import mnist\n",
    "\n",
    "def get_mnist_model():\n",
    "    inputs = keras.Input(shape=(28 * 28,))\n",
    "    features = layers.Dense(512, activation=\"relu\")(inputs)\n",
    "    features = layers.Dropout(0.5)(features)\n",
    "    outputs = layers.Dense(10, activation=\"softmax\")(features)\n",
    "    model = keras.Model(inputs, outputs)\n",
    "    return model\n",
    "\n",
    "(images, labels), (test_images, test_labels) = mnist.load_data()\n",
    "images = images.reshape((60000, 28 * 28)).astype(\"float32\") / 255\n",
    "test_images = test_images.reshape((10000, 28 * 28)).astype(\"float32\") / 255\n",
    "train_images, val_images = images[10000:], images[:10000]\n",
    "train_labels, val_labels = labels[10000:], labels[:10000]\n",
    "\n",
    "model = get_mnist_model()\n",
    "model.compile(optimizer=\"rmsprop\",\n",
    "              loss=\"sparse_categorical_crossentropy\",\n",
    "              metrics=[\"accuracy\"])\n",
    "model.fit(train_images, train_labels,\n",
    "          epochs=3,\n",
    "          validation_data=(val_images, val_labels))\n",
    "test_metrics = model.evaluate(test_images, test_labels)\n",
    "predictions = model.predict(test_images)"
   ]
  },
  {
   "cell_type": "markdown",
   "id": "ff8f64f1",
   "metadata": {},
   "source": [
    "## 완전한 훈련과 평가 루프\n",
    "\n",
    "정방향 패스, 역방향 패스, 지표 추적을 fit()과 유사한 훈련 스텝 함수로 연결해보기\n",
    "이 함수는 데이터와 타깃의 배치를 받고 fit() 진행 표시줄이 출력하는 로그를 반환함."
   ]
  },
  {
   "cell_type": "code",
   "execution_count": 37,
   "id": "6bad397b",
   "metadata": {},
   "outputs": [],
   "source": [
    "model = get_mnist_model()\n",
    "\n",
    "loss_fn = keras.losses.SparseCategoricalCrossentropy() # 손실함수 준비\n",
    "optimizer = keras.optimizers.RMSprop() # 옵티마이저 준비\n",
    "metrics = [keras.metrics.SparseCategoricalAccuracy()] # 모니터링할 지표 리스트 준비\n",
    "loss_tracking_metric = keras.metrics.Mean() # 손실평균을 추적할 평균 지표 준비\n",
    "\n",
    "def train_step(inputs, targets):\n",
    "    with tf.GradientTape() as tape:\n",
    "        predictions = model(inputs, training=True) # 정방향 패스 실행 - training = True\n",
    "        loss = loss_fn(targets, predictions) #정방향 패스 실행\n",
    "    gradients = tape.gradient(loss, model.trainable_weights) # back propagation\n",
    "    optimizer.apply_gradients(zip(gradients, model.trainable_weights)) # back propagation using trainable weights\n",
    "    \n",
    "    logs = {}\n",
    "    #측정 지표 계산\n",
    "    for metric in metrics:\n",
    "        metric.update_state(targets, predictions)\n",
    "        logs[metric.name] = metric.result()\n",
    "    # 손실 평균 계산\n",
    "    loss_tracking_metric.update_state(loss)\n",
    "    logs[\"loss\"] = loss_tracking_metric.result()\n",
    "    return logs"
   ]
  },
  {
   "cell_type": "markdown",
   "id": "72095835",
   "metadata": {},
   "source": [
    "#### 단계별 훈련 루프 작성하기: 지표 재설정"
   ]
  },
  {
   "cell_type": "code",
   "execution_count": 38,
   "id": "df928e00",
   "metadata": {},
   "outputs": [],
   "source": [
    "def reset_metrics():\n",
    "    for metric in metrics:\n",
    "        metric.reset_state()\n",
    "    loss_tracking_metric.reset_state()"
   ]
  },
  {
   "cell_type": "markdown",
   "id": "c18d56f9",
   "metadata": {},
   "source": [
    "#### 단계별 훈련 루프 작성하기: 훈련 루프 자체"
   ]
  },
  {
   "cell_type": "code",
   "execution_count": 40,
   "id": "b96496af",
   "metadata": {},
   "outputs": [
    {
     "name": "stdout",
     "output_type": "stream",
     "text": [
      "0번째 에포크 결과\n",
      "...sparse_categorical_accuracy: 0.9143\n",
      "...loss: 0.2886\n",
      "1번째 에포크 결과\n",
      "...sparse_categorical_accuracy: 0.9534\n",
      "...loss: 0.1670\n",
      "2번째 에포크 결과\n",
      "...sparse_categorical_accuracy: 0.9626\n",
      "...loss: 0.1403\n"
     ]
    }
   ],
   "source": [
    "import tensorflow as tf\n",
    "training_dataset = tf.data.Dataset.from_tensor_slices((train_images, train_labels))\n",
    "training_dataset = training_dataset.batch(32)\n",
    "epochs = 3\n",
    "for epoch in range(epochs):\n",
    "    reset_metrics()\n",
    "    for inputs_batch, targets_batch in training_dataset:\n",
    "        logs = train_step(inputs_batch, targets_batch)\n",
    "    print(f\"{epoch}번째 에포크 결과\")\n",
    "    for key, value in logs.items():\n",
    "        print(f\"...{key}: {value:.4f}\")"
   ]
  },
  {
   "cell_type": "markdown",
   "id": "01fba8a7",
   "metadata": {},
   "source": [
    "#### 단계별 평가 루프 작성하기"
   ]
  },
  {
   "cell_type": "code",
   "execution_count": 41,
   "id": "03744841",
   "metadata": {},
   "outputs": [
    {
     "name": "stdout",
     "output_type": "stream",
     "text": [
      "평가 결과:\n",
      "...val_sparse_categorical_accuracy: 0.9645\n",
      "...val_loss: 0.1382\n"
     ]
    }
   ],
   "source": [
    "def test_step(inputs, targets):\n",
    "    predictions = model(inputs, training=False)\n",
    "    loss = loss_fn(targets, predictions)\n",
    "\n",
    "    logs = {}\n",
    "    for metric in metrics:\n",
    "        metric.update_state(targets, predictions)\n",
    "        logs[\"val_\" + metric.name] = metric.result()\n",
    "\n",
    "    loss_tracking_metric.update_state(loss)\n",
    "    logs[\"val_loss\"] = loss_tracking_metric.result()\n",
    "    return logs\n",
    "\n",
    "val_dataset = tf.data.Dataset.from_tensor_slices((val_images, val_labels))\n",
    "val_dataset = val_dataset.batch(32)\n",
    "reset_metrics()\n",
    "for inputs_batch, targets_batch in val_dataset:\n",
    "    logs = test_step(inputs_batch, targets_batch)\n",
    "print(\"평가 결과:\")\n",
    "for key, value in logs.items():\n",
    "    print(f\"...{key}: {value:.4f}\")"
   ]
  },
  {
   "cell_type": "markdown",
   "id": "2a3ec7fa",
   "metadata": {},
   "source": [
    "## tf.function으로 성능 높이기\n",
    "* 사용자 정의 훈련이 내장된 fit()과 evaluate() method보다 훨씬 느리게 실행된다.\n",
    "* 즉시 실행보다는 계산 그래프로 텐서플로 코드를 컴파일 하는 것이 더 좋은 성능을 가진다.\n",
    "    * 라인 단위로 해석되는 코드에서는 할 수 없는 전역적인 최적화가 가능함. -> tf.function decorator를 추가하면된다."
   ]
  },
  {
   "cell_type": "code",
   "execution_count": 42,
   "id": "0aae4a02",
   "metadata": {},
   "outputs": [
    {
     "name": "stdout",
     "output_type": "stream",
     "text": [
      "평가 결과:\n",
      "...val_sparse_categorical_accuracy: 0.9645\n",
      "...val_loss: 0.1382\n"
     ]
    }
   ],
   "source": [
    "@tf.function # 이것만 추가됨\n",
    "def test_step(inputs, targets):\n",
    "    predictions = model(inputs, training=False)\n",
    "    loss = loss_fn(targets, predictions)\n",
    "\n",
    "    logs = {}\n",
    "    for metric in metrics:\n",
    "        metric.update_state(targets, predictions)\n",
    "        logs[\"val_\" + metric.name] = metric.result()\n",
    "\n",
    "    loss_tracking_metric.update_state(loss)\n",
    "    logs[\"val_loss\"] = loss_tracking_metric.result()\n",
    "    return logs\n",
    "\n",
    "val_dataset = tf.data.Dataset.from_tensor_slices((val_images, val_labels))\n",
    "val_dataset = val_dataset.batch(32)\n",
    "reset_metrics()\n",
    "for inputs_batch, targets_batch in val_dataset:\n",
    "    logs = test_step(inputs_batch, targets_batch)\n",
    "print(\"평가 결과:\")\n",
    "for key, value in logs.items():\n",
    "    print(f\"...{key}: {value:.4f}\")"
   ]
  },
  {
   "cell_type": "markdown",
   "id": "12f4faaa",
   "metadata": {},
   "source": [
    "## fit() 메서드를 사용자 정의 루프로 활용하기\n",
    "\n",
    "* 이전의 코드로 완전한 사용자 정의 훈련 루프를 만들었다. -> 가장 높은 유연성을 제공하지만 많은 코들를 작성해야하고 콜백이나 분산 훈련 지원같은 fit() 메서드가 제공하는 많은 편리한 기능을 사용할 수 없다.\n",
    "\n",
    "* 위의 이유로 사용자 정의 훈련 알고리즘을 사용하지만 케라스에 내장된 훈련 로직의 기능을 활용해보자.\n",
    "    * 사용자 정의 훈련 스텝 함수를 제공하고 나머지 처리는 프레임워크에 위임 가능.\n",
    "    * 즉, Model calss의 train_step() method를 overriding 하기\n",
    "    1. keras.Model을 상속한 새로운 클래스 만들기\n",
    "    2. train_step(self, data) method를 오버라이드하기. 이 메서드의 내용은 이전 절에서 만든 것과 거의 동일함. 측정 지표 이름과 현재 값이 매핑된 딕셔너리를 반환하기\n",
    "    3. 모델의 Metric 객체들을 반환하는 etrics 속성을 구현함. 이를 활용하여 매 에포크 시작이나 evaluate()를 호출할때 모델이 지표 객체들의 reset_state 메서드를 자동으로 호출할 수 있어서 수동으로 지표를 재설정할 필요가 없다."
   ]
  },
  {
   "cell_type": "code",
   "execution_count": 43,
   "id": "631e7937",
   "metadata": {},
   "outputs": [],
   "source": [
    "loss_fn = keras.losses.SparseCategoricalCrossentropy()\n",
    "loss_tracker = keras.metrics.Mean(name=\"loss\")\n",
    "\n",
    "class CustomModel(keras.Model):\n",
    "    def train_step(self, data):\n",
    "        inputs, targets = data\n",
    "        with tf.GradientTape() as tape:\n",
    "            predictions = self(inputs, training=True)\n",
    "            loss = loss_fn(targets, predictions)\n",
    "        gradients = tape.gradient(loss, self.trainable_weights)\n",
    "        self.optimizer.apply_gradients(zip(gradients, self.trainable_weights))\n",
    "\n",
    "        loss_tracker.update_state(loss)\n",
    "        return {\"loss\": loss_tracker.result()}\n",
    "\n",
    "    @property\n",
    "    def metrics(self):\n",
    "        return [loss_tracker]"
   ]
  },
  {
   "cell_type": "code",
   "execution_count": 44,
   "id": "3579a3f2",
   "metadata": {},
   "outputs": [
    {
     "name": "stdout",
     "output_type": "stream",
     "text": [
      "Epoch 1/3\n",
      "1563/1563 [==============================] - 9s 5ms/step - loss: 0.2945\n",
      "Epoch 2/3\n",
      "1563/1563 [==============================] - 8s 5ms/step - loss: 0.1621\n",
      "Epoch 3/3\n",
      "1563/1563 [==============================] - 8s 5ms/step - loss: 0.1404\n"
     ]
    },
    {
     "data": {
      "text/plain": [
       "<keras.callbacks.History at 0x7c709c49ff70>"
      ]
     },
     "execution_count": 44,
     "metadata": {},
     "output_type": "execute_result"
    }
   ],
   "source": [
    "inputs = keras.Input(shape=(28 * 28,))\n",
    "features = layers.Dense(512, activation=\"relu\")(inputs)\n",
    "features = layers.Dropout(0.5)(features)\n",
    "outputs = layers.Dense(10, activation=\"softmax\")(features)\n",
    "model = CustomModel(inputs, outputs)\n",
    "\n",
    "model.compile(optimizer=keras.optimizers.RMSprop())\n",
    "model.fit(train_images, train_labels, epochs=3)"
   ]
  },
  {
   "cell_type": "markdown",
   "id": "23866ee9",
   "metadata": {},
   "source": [
    "주의해야할 점\n",
    "* 이 패턴 때문에 함수형 API로 모델을 만드는데 문제가 되지않음. 따라서 Sequential 모델, 함수형 모델, 서브 클래싱 모델을 만드는데 상관없이 이 방식을 사용할 수 있다.\n",
    "* 프레임워크가 알아서 처리하기 때문에 train_step method를 오버라이딩할 떄 @tf.function decorator를 사용할 필요가 없음"
   ]
  },
  {
   "cell_type": "markdown",
   "id": "dde8a74f",
   "metadata": {},
   "source": [
    "#### compile() 메서드를 통해 지표와 손실 설정.\n",
    "* self.compiled_loss : compile()메서드에 전달한 손실함수\n",
    "* self.compiled_metrics: compile() method에 전달된 지표 목록이 포함되어 있는 개체. self.compiled_metrics.update_state()를 호출하여 모든 지표를 동시에 업데이트할 수 있음.\n",
    "* self.metrics: compile()메서드에 전달한 실제 지표의 목록. 앞서 loss_tracking_metric으로 수동으로 했던것과 비슷하게 손실을 추적하는 지표도 포함."
   ]
  },
  {
   "cell_type": "code",
   "execution_count": 46,
   "id": "589c8549",
   "metadata": {},
   "outputs": [],
   "source": [
    "class CustomModel(keras.Model):\n",
    "    def train_step(self, data):\n",
    "        inputs, targets = data\n",
    "        with tf.GradientTape() as tape:\n",
    "            predictions = self(inputs, training=True)\n",
    "            loss = self.compiled_loss(targets, predictions)\n",
    "        gradients = tape.gradient(loss, self.trainable_weights)\n",
    "        self.optimizer.apply_gradients(zip(gradients, self.trainable_weights))\n",
    "        self.compiled_metrics.update_state(targets, predictions)\n",
    "        return {m.name: m.result() for m in self.metrics}"
   ]
  },
  {
   "cell_type": "code",
   "execution_count": 47,
   "id": "b2643d3c",
   "metadata": {},
   "outputs": [
    {
     "name": "stdout",
     "output_type": "stream",
     "text": [
      "Epoch 1/3\n",
      "1563/1563 [==============================] - 9s 5ms/step - loss: 0.2900 - sparse_categorical_accuracy: 0.9147\n",
      "Epoch 2/3\n",
      "1563/1563 [==============================] - 8s 5ms/step - loss: 0.1616 - sparse_categorical_accuracy: 0.9549\n",
      "Epoch 3/3\n",
      "1563/1563 [==============================] - 8s 5ms/step - loss: 0.1381 - sparse_categorical_accuracy: 0.9631\n"
     ]
    },
    {
     "data": {
      "text/plain": [
       "<keras.callbacks.History at 0x7c709c5058b0>"
      ]
     },
     "execution_count": 47,
     "metadata": {},
     "output_type": "execute_result"
    }
   ],
   "source": [
    "inputs = keras.Input(shape=(28 * 28,))\n",
    "features = layers.Dense(512, activation=\"relu\")(inputs)\n",
    "features = layers.Dropout(0.5)(features)\n",
    "outputs = layers.Dense(10, activation=\"softmax\")(features)\n",
    "model = CustomModel(inputs, outputs)\n",
    "\n",
    "model.compile(optimizer=keras.optimizers.RMSprop(),\n",
    "              loss=keras.losses.SparseCategoricalCrossentropy(),\n",
    "              metrics=[keras.metrics.SparseCategoricalAccuracy()])\n",
    "model.fit(train_images, train_labels, epochs=3)"
   ]
  },
  {
   "cell_type": "markdown",
   "id": "d948ea16",
   "metadata": {},
   "source": [
    "# 다른 조들의 발표 후기"
   ]
  },
  {
   "cell_type": "markdown",
   "id": "687265c0",
   "metadata": {},
   "source": [
    "learning rate를 너무 작게 설정하면 과대적합이 일어나고, 다양한 activation function 중에 sigmoid가 이미지 데이터에서는 가장 좋은 결과가 나왔다는 것이 인상적이었습니다. 저희 조는 sigmoid는 전혀 사용하지 않아 sigmoid의 효과가 어떤지 전혀 몰랐는데 신기했습니다. 또한 logsoft max 그리고 tanh에서는 전혀 계산이 되지않았다는 것을 들었을때 이 함수들은 이미지 데이터에는 맞지 않은 것일까?라는 생각이 들었습니다. Layer 넓이가 증가함에 따라 결과가 좋아지는 것도 인상적이었습니다. 계속 Layer의 넓이가 증가하면 과적합이 되지않을까했었는데 그 조 또한 저와 같은 생각을 갖고 있었습니다. "
   ]
  }
 ],
 "metadata": {
  "kernelspec": {
   "display_name": "Python 3 (ipykernel)",
   "language": "python",
   "name": "python3"
  },
  "language_info": {
   "codemirror_mode": {
    "name": "ipython",
    "version": 3
   },
   "file_extension": ".py",
   "mimetype": "text/x-python",
   "name": "python",
   "nbconvert_exporter": "python",
   "pygments_lexer": "ipython3",
   "version": "3.9.7"
  }
 },
 "nbformat": 4,
 "nbformat_minor": 5
}
